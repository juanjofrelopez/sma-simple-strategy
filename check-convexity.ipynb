{
 "cells": [
  {
   "cell_type": "code",
   "execution_count": 73,
   "metadata": {},
   "outputs": [],
   "source": [
    "import numpy as np\n",
    "from scipy.linalg import eigvals\n",
    "import pandas as pd\n"
   ]
  },
  {
   "cell_type": "code",
   "execution_count": 74,
   "metadata": {},
   "outputs": [],
   "source": [
    "def calculate_cagr(initial_value, final_value, weeks_held):\n",
    "    # Convert weeks to years\n",
    "    years_held = weeks_held / 52\n",
    "    # Calculate CAGR\n",
    "    cagr = (final_value / initial_value) ** (1 / years_held) - 1\n",
    "    return cagr"
   ]
  },
  {
   "cell_type": "code",
   "execution_count": 75,
   "metadata": {},
   "outputs": [],
   "source": [
    "def yield_function(params):\n",
    "    w2_slow, w1_medium = params\n",
    "    w2_slow = int(w2_slow)\n",
    "    w1_medium = int(w1_medium)\n",
    "    stock = 'aapl'\n",
    "    df = pd.read_csv(f'data/{stock}_quote_data.csv')\n",
    "    df['slow'] = df['close'].rolling(w2_slow).mean()\n",
    "    df['medium'] = df['close'].rolling(w1_medium).mean()\n",
    "    df = df.dropna()\n",
    "\n",
    "    close = df['close'].to_numpy()\n",
    "    slow = df['slow'].to_numpy()\n",
    "    medium = df['medium'].to_numpy()\n",
    "\n",
    "    it = np.nditer(slow, flags=['f_index'])\n",
    "\n",
    "    bought = False\n",
    "    cost = 0\n",
    "    cost_week = 0\n",
    "    total_yield = 1\n",
    "    total_weeks = 0\n",
    "\n",
    "    for k in it:\n",
    "        i = it.index\n",
    "        slow_v = slow[i]\n",
    "        medium_v = medium[i]\n",
    "        close_v = close[i]\n",
    "        if (not bought):\n",
    "            if (medium_v > slow_v):\n",
    "                bought = True\n",
    "                cost = close_v\n",
    "                cost_week = i\n",
    "        if (bought):\n",
    "            if (medium_v < slow_v):\n",
    "                bought = False\n",
    "                total_yield += total_yield*((close_v/cost)-1)\n",
    "                total_weeks += (i-cost_week)\n",
    "    final_cagr = calculate_cagr(1, total_yield, total_weeks) * 100\n",
    "    return -final_cagr"
   ]
  },
  {
   "cell_type": "code",
   "execution_count": 76,
   "metadata": {},
   "outputs": [
    {
     "name": "stdout",
     "output_type": "stream",
     "text": [
      "psd: 47 npsd 289\n"
     ]
    }
   ],
   "source": [
    "def numerical_hessian(f, x, epsilon=1):\n",
    "    n = len(x)\n",
    "    hessian = np.zeros((n, n))\n",
    "    perturb = np.eye(n) * epsilon\n",
    "\n",
    "    for i in range(n):\n",
    "        for j in range(n):\n",
    "            f_x = f(x)\n",
    "            f_x_i = f(x + perturb[i])\n",
    "            f_x_j = f(x + perturb[j])\n",
    "            f_x_ij = f(x + perturb[i] + perturb[j])\n",
    "            hessian[i, j] = (f_x_ij - f_x_i - f_x_j + f_x) / (epsilon ** 2)\n",
    "    return hessian\n",
    "\n",
    "\n",
    "def is_positive_semi_definite(matrix):\n",
    "    eigenvalues = eigvals(matrix)\n",
    "    return np.all(eigenvalues >= 0)\n",
    "\n",
    "\n",
    "# Define a grid of points over which to test convexity\n",
    "w1_medium = np.linspace(start=20, stop=35, num=16, dtype=int)  # medium\n",
    "w2_values = np.linspace(start=40, stop=60, num=21, dtype=int)  # slow\n",
    "points = np.array(np.meshgrid(w1_medium, w2_values)).T.reshape(-1, 2)\n",
    "\n",
    "psd = 0\n",
    "npsd = 0\n",
    "# Check Hessian at each point\n",
    "for point in points:\n",
    "    hessian = numerical_hessian(yield_function, point)\n",
    "    if is_positive_semi_definite(hessian):\n",
    "        psd += 1\n",
    "        # print(f\"At point {point}, the Hessian is positive semi-definite.\")\n",
    "    else:\n",
    "        npsd += 1\n",
    "        # print(f\"At point {point}, the Hessian is NOT positive semi-definite.\")\n",
    "print('psd:', psd, 'npsd', npsd)"
   ]
  }
 ],
 "metadata": {
  "kernelspec": {
   "display_name": "venv",
   "language": "python",
   "name": "python3"
  },
  "language_info": {
   "codemirror_mode": {
    "name": "ipython",
    "version": 3
   },
   "file_extension": ".py",
   "mimetype": "text/x-python",
   "name": "python",
   "nbconvert_exporter": "python",
   "pygments_lexer": "ipython3",
   "version": "3.10.12"
  }
 },
 "nbformat": 4,
 "nbformat_minor": 2
}
